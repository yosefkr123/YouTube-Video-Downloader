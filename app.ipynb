{
  "nbformat": 4,
  "nbformat_minor": 0,
  "metadata": {
    "colab": {
      "provenance": []
    },
    "kernelspec": {
      "name": "python3",
      "display_name": "Python 3"
    },
    "language_info": {
      "name": "python"
    }
  },
  "cells": [
    {
      "cell_type": "code",
      "source": [
        "! pip install pytube\n",
        "! pip install unidecode"
      ],
      "metadata": {
        "colab": {
          "base_uri": "https://localhost:8080/"
        },
        "id": "DBsLoonpQC5l",
        "outputId": "ac8a83b4-008f-4ab6-b4ee-afb73fffdcbe"
      },
      "execution_count": 1,
      "outputs": [
        {
          "output_type": "stream",
          "name": "stdout",
          "text": [
            "Collecting pytube\n",
            "  Downloading pytube-15.0.0-py3-none-any.whl (57 kB)\n",
            "\u001b[?25l     \u001b[90m━━━━━━━━━━━━━━━━━━━━━━━━━━━━━━━━━━━━━━━━\u001b[0m \u001b[32m0.0/57.6 kB\u001b[0m \u001b[31m?\u001b[0m eta \u001b[36m-:--:--\u001b[0m\r\u001b[2K     \u001b[91m━━━━━━━━━━━━━━━━━━━━━━━━━━━━━━━━━━━\u001b[0m\u001b[91m╸\u001b[0m\u001b[90m━━━━\u001b[0m \u001b[32m51.2/57.6 kB\u001b[0m \u001b[31m1.3 MB/s\u001b[0m eta \u001b[36m0:00:01\u001b[0m\r\u001b[2K     \u001b[90m━━━━━━━━━━━━━━━━━━━━━━━━━━━━━━━━━━━━━━━━\u001b[0m \u001b[32m57.6/57.6 kB\u001b[0m \u001b[31m1.2 MB/s\u001b[0m eta \u001b[36m0:00:00\u001b[0m\n",
            "\u001b[?25hInstalling collected packages: pytube\n",
            "Successfully installed pytube-15.0.0\n",
            "Collecting unidecode\n",
            "  Downloading Unidecode-1.3.7-py3-none-any.whl (235 kB)\n",
            "\u001b[2K     \u001b[90m━━━━━━━━━━━━━━━━━━━━━━━━━━━━━━━━━━━━━━━━\u001b[0m \u001b[32m235.5/235.5 kB\u001b[0m \u001b[31m5.1 MB/s\u001b[0m eta \u001b[36m0:00:00\u001b[0m\n",
            "\u001b[?25hInstalling collected packages: unidecode\n",
            "Successfully installed unidecode-1.3.7\n"
          ]
        }
      ]
    },
    {
      "cell_type": "code",
      "execution_count": 2,
      "metadata": {
        "colab": {
          "base_uri": "https://localhost:8080/"
        },
        "id": "m3RMljO_P-Fn",
        "outputId": "c5ab667e-bf42-4f0c-ee73-0a367508a13a"
      },
      "outputs": [
        {
          "output_type": "stream",
          "name": "stdout",
          "text": [
            "Enter the YouTube video URL: https://youtu.be/okNIj3A48eg?si=FrSqH56Y2NLyedRD\n",
            "Available video resolutions:\n",
            "1. Resolution: 144p\n",
            "2. Resolution: 240p\n",
            "3. Resolution: 360p\n",
            "4. Resolution: 480p\n",
            "5. Resolution: 720p\n",
            "6. Resolution: 1080p\n",
            "Enter the number of the resolution you want to download: 6\n",
            "1080p video (After Nourway - Never Mine (Lyrics) | It's a simple \"Good morning\"\"Good night\" and \"How are you?\"_1080p.mp4) successfully downloaded.\n"
          ]
        }
      ],
      "source": [
        "import re\n",
        "import os\n",
        "from pytube import YouTube\n",
        "from pytube.exceptions import RegexMatchError, VideoUnavailable, PytubeError\n",
        "from unidecode import unidecode\n",
        "\n",
        "# This function is used to check if the given YouTube URL is valid.\n",
        "def is_valid_youtube_url(url):\n",
        "    # Regular expression to match YouTube URLs with or without \"si\" query parameter\n",
        "    regex = r'^https?://(www\\.)?youtu\\.?be(\\.com)?/[\\w-]+(\\?si=[\\w-]+)?$'\n",
        "    return re.match(regex, url) is not None\n",
        "\n",
        "# This function is used to download video from a YouTube video with various resolutions.\n",
        "def download_video(url):\n",
        "    if not is_valid_youtube_url(url):\n",
        "        print(\"Invalid YouTube URL.\")\n",
        "        return\n",
        "\n",
        "    try:\n",
        "        video = YouTube(url)  # Initialize a YouTube object with the given URL.\n",
        "        streams = video.streams.filter(file_extension='mp4')\n",
        "\n",
        "        unique_resolutions = set()  # To store unique resolutions.\n",
        "\n",
        "        for stream in streams:\n",
        "            if stream.resolution:\n",
        "                unique_resolutions.add(stream.resolution)\n",
        "\n",
        "        unique_resolutions = sorted(list(unique_resolutions), key=lambda x: int(x[:-1]))  # Sort resolutions numerically.\n",
        "\n",
        "        if not unique_resolutions:\n",
        "            print(\"No unique video resolutions found.\")\n",
        "            return\n",
        "    except (RegexMatchError, VideoUnavailable, PytubeError) as e:\n",
        "        print(f\"Error while fetching video: {str(e)}\")\n",
        "        return\n",
        "\n",
        "    print(\"Available video resolutions:\")\n",
        "    for i, resolution in enumerate(unique_resolutions):\n",
        "        print(f\"{i+1}. Resolution: {resolution}\")\n",
        "\n",
        "    choice = input(\"Enter the number of the resolution you want to download: \")\n",
        "    try:\n",
        "        choice = int(choice)\n",
        "        if 1 <= choice <= len(unique_resolutions):\n",
        "            selected_resolution = unique_resolutions[choice - 1]\n",
        "            stream = streams.filter(resolution=selected_resolution).first()  # Select the video stream based on user choice.\n",
        "            video_title = unidecode(video.title)  # Convert the video title to ASCII to avoid character issues.\n",
        "            video_filename = f\"{video_title}_{selected_resolution}.mp4\"  # Create a video file name with the video title and resolution.\n",
        "\n",
        "            try:\n",
        "                stream.download(output_path=\".\", filename=video_filename)  # Download the video to the current directory with the appropriate name.\n",
        "                print(f\"{selected_resolution} video ({video_filename}) successfully downloaded.\")\n",
        "            except Exception as e:\n",
        "                print(f\"Error while downloading video: {str(e)}\")\n",
        "        else:\n",
        "            print(\"Invalid choice. Please select a valid number.\")\n",
        "    except ValueError:\n",
        "        print(\"Invalid choice. Please enter a valid number.\")\n",
        "\n",
        "if __name__ == \"__main__\":\n",
        "    url = input(\"Enter the YouTube video URL: \")\n",
        "    download_video(url)  # Call the download_video function to download video from the provided URL with the specified resolution."
      ]
    }
  ]
}